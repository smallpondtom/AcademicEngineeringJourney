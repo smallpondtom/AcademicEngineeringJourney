{
 "cells": [
  {
   "cell_type": "code",
   "execution_count": 1,
   "metadata": {},
   "outputs": [],
   "source": [
    "import scipy.io as sio\n",
    "import numpy as np\n",
    "%matplotlib inline\n",
    "import matplotlib.pyplot as plt\n",
    "plt.style.use('seaborn-whitegrid')\n",
    "from scipy.stats import multivariate_normal"
   ]
  },
  {
   "cell_type": "markdown",
   "metadata": {},
   "source": [
    "### 3(a)"
   ]
  },
  {
   "cell_type": "code",
   "execution_count": 4,
   "metadata": {},
   "outputs": [],
   "source": [
    "data = sio.loadmat('hw07p3data.mat')\n",
    "X1 = data['X1'].T  # (100, 2)\n",
    "X2 = data['X2'].T  # (100, 2)"
   ]
  },
  {
   "cell_type": "code",
   "execution_count": 5,
   "metadata": {},
   "outputs": [],
   "source": [
    "def nearest_neighbor(x):\n",
    "    dist2X1 = min_dist(X1, x)\n",
    "    dist2X2 = min_dist(X2, x)\n",
    "    \n",
    "    if dist2X1 < dist2X2:\n",
    "        return 1\n",
    "    else:\n",
    "        return 2"
   ]
  },
  {
   "cell_type": "code",
   "execution_count": 6,
   "metadata": {},
   "outputs": [],
   "source": [
    "def min_dist(X, x):\n",
    "    return np.min(np.sum((X-x)**2.0, axis=1))"
   ]
  },
  {
   "cell_type": "code",
   "execution_count": 7,
   "metadata": {},
   "outputs": [],
   "source": [
    "x = np.linspace(-10, 10, 1000)\n",
    "y = np.linspace(-10, 10, 1000)\n",
    "\n",
    "X, Y = np.meshgrid(x, y)"
   ]
  },
  {
   "cell_type": "code",
   "execution_count": 8,
   "metadata": {},
   "outputs": [],
   "source": [
    "Z = np.zeros((1000,1000))\n",
    "for i in range(1000):\n",
    "    for j in range(1000):\n",
    "        Z[i,j] = nearest_neighbor([X[i,j], Y[i,j]])"
   ]
  },
  {
   "cell_type": "code",
   "execution_count": 10,
   "metadata": {},
   "outputs": [
    {
     "data": {
      "image/png": "[encoded data removed]",
      "text/plain": [
       "<Figure size 432x288 with 1 Axes>"
      ]
     },
     "metadata": {},
     "output_type": "display_data"
    }
   ],
   "source": [
    "plt.contour(X, Y, Z)\n",
    "plt.text(6.5, 0, r\"$\\Gamma_2$\", size=30)\n",
    "plt.text(-7.5, 0, r\"$\\Gamma_2$\", size=30)\n",
    "plt.text(0, -8.5, r\"$\\Gamma_1$\", size=30)\n",
    "plt.text(0, 6.5, r\"$\\Gamma_1$\", size=30)\n",
    "plt.savefig('p3a.png')\n",
    "plt.show()"
   ]
  },
  {
   "cell_type": "markdown",
   "metadata": {},
   "source": [
    "### 3(b)"
   ]
  },
  {
   "cell_type": "code",
   "execution_count": 11,
   "metadata": {},
   "outputs": [],
   "source": [
    "mu1 = np.array([-1, 1])\n",
    "mu2 = np.array([1, 0])"
   ]
  },
  {
   "cell_type": "code",
   "execution_count": 12,
   "metadata": {},
   "outputs": [],
   "source": [
    "sigma1 = np.array([[3, -6],\n",
    "                   [-6, 24]])\n",
    "sigma2 = np.array([[16, -6],\n",
    "                   [-6, 8]])"
   ]
  },
  {
   "cell_type": "code",
   "execution_count": 13,
   "metadata": {},
   "outputs": [],
   "source": [
    "def bayes(x):\n",
    "    if multivariate_normal.pdf(x, mean=mu1, cov=sigma1) > multivariate_normal.pdf(x, mean=mu2, cov=sigma2):\n",
    "        return 1\n",
    "    else:\n",
    "        return 2"
   ]
  },
  {
   "cell_type": "code",
   "execution_count": 18,
   "metadata": {},
   "outputs": [],
   "source": [
    "N = 100000"
   ]
  },
  {
   "cell_type": "code",
   "execution_count": 19,
   "metadata": {},
   "outputs": [],
   "source": [
    "X1_test = np.random.multivariate_normal(mu1, sigma1, 50000)\n",
    "X2_test = np.random.multivariate_normal(mu2, sigma2, 50000)"
   ]
  },
  {
   "cell_type": "code",
   "execution_count": 20,
   "metadata": {},
   "outputs": [
    {
     "name": "stdout",
     "output_type": "stream",
     "text": [
      "R(h_bayes) = 0.21954\n"
     ]
    }
   ],
   "source": [
    "errors = 0\n",
    "for i in range(X1_test.shape[0]):\n",
    "    if bayes(X1_test[i,:]) != 1:\n",
    "        errors +=1\n",
    "        \n",
    "for i in range(X2_test.shape[0]):\n",
    "    if bayes(X2_test[i,:]) != 2:\n",
    "        errors +=1\n",
    "        \n",
    "print(f\"R(h_bayes) = {errors/N}\")"
   ]
  },
  {
   "cell_type": "code",
   "execution_count": 21,
   "metadata": {},
   "outputs": [
    {
     "name": "stdout",
     "output_type": "stream",
     "text": [
      "R(h_nearest) = 0.32034\n"
     ]
    }
   ],
   "source": [
    "errors = 0\n",
    "for i in range(X1_test.shape[0]):\n",
    "    if nearest_neighbor(X1_test[i,:]) != 1:\n",
    "        errors +=1\n",
    "        \n",
    "for i in range(X2_test.shape[0]):\n",
    "    if nearest_neighbor(X2_test[i,:]) != 2:\n",
    "        errors +=1\n",
    "        \n",
    "print(f\"R(h_nearest) = {errors/N}\")"
   ]
  },
  {
   "cell_type": "code",
   "execution_count": null,
   "metadata": {},
   "outputs": [],
   "source": []
  }
 ],
 "metadata": {
  "kernelspec": {
   "display_name": "Python 3",
   "language": "python",
   "name": "python3"
  },
  "language_info": {
   "codemirror_mode": {
    "name": "ipython",
    "version": 3
   },
   "file_extension": ".py",
   "mimetype": "text/x-python",
   "name": "python",
   "nbconvert_exporter": "python",
   "pygments_lexer": "ipython3",
   "version": "3.8.10"
  }
 },
 "nbformat": 4,
 "nbformat_minor": 4
}
