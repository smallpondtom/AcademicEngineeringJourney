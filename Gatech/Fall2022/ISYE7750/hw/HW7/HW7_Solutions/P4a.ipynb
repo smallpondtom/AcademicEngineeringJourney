{
 "cells": [
  {
   "cell_type": "code",
   "execution_count": 1,
   "metadata": {},
   "outputs": [],
   "source": [
    "import numpy as np\n",
    "%matplotlib inline\n",
    "import matplotlib.pyplot as plt\n",
    "plt.style.use('seaborn-whitegrid')"
   ]
  },
  {
   "cell_type": "markdown",
   "metadata": {},
   "source": [
    "### 4(a)"
   ]
  },
  {
   "cell_type": "code",
   "execution_count": 2,
   "metadata": {},
   "outputs": [],
   "source": [
    "Ms = []\n",
    "for i in [1e+0, 1e+1, 1e+2, 1e+3, 1e+4, 1e+5]:\n",
    "    for j in [1, 2, 5]:\n",
    "        Ms.append(j*int(i))\n",
    "Ms.append(int(1e+6))"
   ]
  },
  {
   "cell_type": "code",
   "execution_count": 3,
   "metadata": {},
   "outputs": [],
   "source": [
    "def estimate_EZ(M):\n",
    "    Z = np.zeros(1000)\n",
    "    for i in range(1000):\n",
    "        X_abs = np.abs(np.random.randn(M))\n",
    "        Z[i] = np.max(X_abs)\n",
    "    return np.mean(Z)"
   ]
  },
  {
   "cell_type": "code",
   "execution_count": 4,
   "metadata": {},
   "outputs": [],
   "source": [
    "EZ = []\n",
    "for M in Ms:\n",
    "    EZ.append(estimate_EZ(M))"
   ]
  },
  {
   "cell_type": "code",
   "execution_count": 10,
   "metadata": {},
   "outputs": [
    {
     "data": {
      "image/png": "[encoded data removed]",
      "text/plain": [
       "<Figure size 432x288 with 1 Axes>"
      ]
     },
     "metadata": {},
     "output_type": "display_data"
    }
   ],
   "source": [
    "plt.scatter(Ms, EZ, marker='o')\n",
    "plt.xscale(\"log\")\n",
    "plt.xlabel(\"M (log scale)\")\n",
    "plt.ylabel(r\"$E[Z_M]$\")\n",
    "plt.savefig('')\n",
    "plt.show()"
   ]
  },
  {
   "cell_type": "code",
   "execution_count": null,
   "metadata": {},
   "outputs": [],
   "source": []
  }
 ],
 "metadata": {
  "kernelspec": {
   "display_name": "Python 3",
   "language": "python",
   "name": "python3"
  },
  "language_info": {
   "codemirror_mode": {
    "name": "ipython",
    "version": 3
   },
   "file_extension": ".py",
   "mimetype": "text/x-python",
   "name": "python",
   "nbconvert_exporter": "python",
   "pygments_lexer": "ipython3",
   "version": "3.8.10"
  }
 },
 "nbformat": 4,
 "nbformat_minor": 4
}
