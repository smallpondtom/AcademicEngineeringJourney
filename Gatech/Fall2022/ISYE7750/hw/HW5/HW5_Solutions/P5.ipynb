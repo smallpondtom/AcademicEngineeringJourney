{
 "cells": [
  {
   "cell_type": "code",
   "execution_count": 1,
   "id": "59dde29b",
   "metadata": {},
   "outputs": [],
   "source": [
    "import numpy as np"
   ]
  },
  {
   "cell_type": "code",
   "execution_count": 2,
   "id": "38db1338",
   "metadata": {},
   "outputs": [
    {
     "name": "stdout",
     "output_type": "stream",
     "text": [
      "q1 = [ 0.4472136  0.4472136 -0.4472136 -0.4472136 -0.4472136]\n",
      "q2 = [0.54772256 0.54772256 0.36514837 0.36514837 0.36514837]\n",
      "q3 = [ 0.46291005 -0.46291005  0.3086067  -0.6172134   0.3086067 ]\n"
     ]
    }
   ],
   "source": [
    "#(a)\n",
    "a1 = np.array([1,1,-1,-1,-1])\n",
    "a2 = np.array([1,1,1,1,1])\n",
    "a3 = np.array([1,-1,1,-1,1])\n",
    "\n",
    "q1 = a1 / np.linalg.norm(a1)\n",
    "w2 = a2 - np.dot(a2, q1) * q1\n",
    "q2 = w2 / np.linalg.norm(w2)\n",
    "w3 = a3 - np.dot(a3, q1) * q1 - np.dot(a3, q2) * q2\n",
    "q3 = w3 / np.linalg.norm(w3)\n",
    "\n",
    "print(f\"q1 = {q1}\")\n",
    "print(f\"q2 = {q2}\")\n",
    "print(f\"q3 = {q3}\")"
   ]
  },
  {
   "cell_type": "code",
   "execution_count": 22,
   "id": "673b1ac8",
   "metadata": {},
   "outputs": [
    {
     "name": "stdout",
     "output_type": "stream",
     "text": [
      "Q = [[ 0.4472136   0.54772256  0.46291005]\n",
      " [ 0.4472136   0.54772256 -0.46291005]\n",
      " [-0.4472136   0.36514837  0.3086067 ]\n",
      " [-0.4472136   0.36514837 -0.6172134 ]\n",
      " [-0.4472136   0.36514837  0.3086067 ]]\n",
      "R = [[ 2.23606798 -0.4472136  -0.4472136 ]\n",
      " [ 0.          2.19089023  0.36514837]\n",
      " [ 0.          0.          2.1602469 ]]\n",
      "QR = [[ 1.  1.  1.]\n",
      " [ 1.  1. -1.]\n",
      " [-1.  1.  1.]\n",
      " [-1.  1. -1.]\n",
      " [-1.  1.  1.]]\n"
     ]
    }
   ],
   "source": [
    "#(b)\n",
    "A = np.vstack((a1,a2,a3)).astype(float).T\n",
    "M, N = A.shape\n",
    "Q = A.copy()\n",
    "R = np.zeros((N, N))\n",
    "for j in range(N):\n",
    "    for i in range(j):\n",
    "        R[i, j] = np.dot(A[:,j], Q[:,i])\n",
    "        Q[:, j] -= R[i, j] * Q[:, i]\n",
    "    \n",
    "    \n",
    "    norm_wj = np.linalg.norm(Q[:,j])\n",
    "    R[j, j] = norm_wj\n",
    "    Q[:, j] /= norm_wj\n",
    "    \n",
    "print(f\"Q = {Q}\")\n",
    "print(f\"R = {R}\")\n",
    "print(f\"QR = {np.dot(Q, R)}\")"
   ]
  },
  {
   "cell_type": "code",
   "execution_count": null,
   "id": "13e6c006",
   "metadata": {},
   "outputs": [],
   "source": []
  },
  {
   "cell_type": "code",
   "execution_count": null,
   "id": "f5edb37e",
   "metadata": {},
   "outputs": [],
   "source": []
  }
 ],
 "metadata": {
  "kernelspec": {
   "display_name": "Python 3",
   "language": "python",
   "name": "python3"
  },
  "language_info": {
   "codemirror_mode": {
    "name": "ipython",
    "version": 3
   },
   "file_extension": ".py",
   "mimetype": "text/x-python",
   "name": "python",
   "nbconvert_exporter": "python",
   "pygments_lexer": "ipython3",
   "version": "3.8.10"
  }
 },
 "nbformat": 4,
 "nbformat_minor": 5
}
