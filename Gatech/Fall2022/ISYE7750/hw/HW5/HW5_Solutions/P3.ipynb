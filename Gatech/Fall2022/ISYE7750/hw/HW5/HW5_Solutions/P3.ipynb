{
 "cells": [
  {
   "cell_type": "code",
   "execution_count": 1,
   "metadata": {},
   "outputs": [],
   "source": [
    "import scipy.io as sio\n",
    "import numpy as np\n",
    "from numpy import linalg as LA"
   ]
  },
  {
   "cell_type": "code",
   "execution_count": 2,
   "metadata": {},
   "outputs": [],
   "source": [
    "data = sio.loadmat('hw05p3_data.mat')\n",
    "H = data['H'].astype(float)\n",
    "b = data['b'][:, 0].astype(float)"
   ]
  },
  {
   "cell_type": "code",
   "execution_count": 3,
   "metadata": {},
   "outputs": [],
   "source": [
    "#(a) implement the gradient descent algorithm for solving linear systems of equations\n",
    "def gdsolve(H, b, tol, maxiter):\n",
    "    N = b.shape[0]\n",
    "    x = np.zeros(N)\n",
    "    r = b - np.dot(H, x)\n",
    "    iteration = 0\n",
    "    \n",
    "    while LA.norm(b - np.dot(H, x)) / LA.norm(b) >= tol and iteration < maxiter:\n",
    "        q = np.dot(H, r)\n",
    "        alpha = np.dot(r, r) / np.dot(r, q)\n",
    "        x += alpha * r\n",
    "        r -= alpha * q\n",
    "        iteration += 1\n",
    "    \n",
    "    return x, iteration"
   ]
  },
  {
   "cell_type": "code",
   "execution_count": 4,
   "metadata": {},
   "outputs": [
    {
     "name": "stdout",
     "output_type": "stream",
     "text": [
      "The number of iterations needed is 178\n"
     ]
    }
   ],
   "source": [
    "tol = 1e-6\n",
    "maxiter = 1000\n",
    "x, iteration = gdsolve(H, b, tol, maxiter)\n",
    "print(f\"The number of iterations needed is {iteration}\")"
   ]
  },
  {
   "cell_type": "code",
   "execution_count": 5,
   "metadata": {},
   "outputs": [
    {
     "data": {
      "text/plain": [
       "9.067339311762026e-07"
      ]
     },
     "execution_count": 5,
     "metadata": {},
     "output_type": "execute_result"
    }
   ],
   "source": [
    "LA.norm(b-np.dot(H, x)) / LA.norm(b)"
   ]
  },
  {
   "cell_type": "code",
   "execution_count": 6,
   "metadata": {},
   "outputs": [],
   "source": [
    "#(b) implement the method of conjugate gradients for solving linear systems of equations\n",
    "def cgsolve(H, b, tol, maxiter):\n",
    "    N = b.shape[0]\n",
    "    x = np.zeros(N)\n",
    "    r = b - np.dot(H, x)\n",
    "    d = b - np.dot(H, x)\n",
    "    iteration = 0\n",
    "    \n",
    "    while LA.norm(b - np.dot(H, x)) / LA.norm(b) >= tol and iteration < maxiter:\n",
    "        rTr = np.dot(r, r)\n",
    "        alpha = rTr / np.dot(d, np.dot(H, d))\n",
    "        x += alpha * d\n",
    "        r -= alpha * np.dot(H, d)\n",
    "        beta = np.dot(r, r) / rTr\n",
    "        d = r + beta * d\n",
    "        iteration += 1\n",
    "    \n",
    "    return x, iteration"
   ]
  },
  {
   "cell_type": "code",
   "execution_count": 7,
   "metadata": {},
   "outputs": [
    {
     "name": "stdout",
     "output_type": "stream",
     "text": [
      "The number of iterations needed is 40\n"
     ]
    }
   ],
   "source": [
    "tol = 1e-6\n",
    "maxiter = 100\n",
    "x, iteration = cgsolve(H, b, tol, maxiter)\n",
    "print(f\"The number of iterations needed is {iteration}\")"
   ]
  },
  {
   "cell_type": "code",
   "execution_count": 8,
   "metadata": {},
   "outputs": [
    {
     "data": {
      "text/plain": [
       "7.617927304959278e-07"
      ]
     },
     "execution_count": 8,
     "metadata": {},
     "output_type": "execute_result"
    }
   ],
   "source": [
    "LA.norm(b-np.dot(H, x)) / LA.norm(b)"
   ]
  }
 ],
 "metadata": {
  "kernelspec": {
   "display_name": "Python 3",
   "language": "python",
   "name": "python3"
  },
  "language_info": {
   "codemirror_mode": {
    "name": "ipython",
    "version": 3
   },
   "file_extension": ".py",
   "mimetype": "text/x-python",
   "name": "python",
   "nbconvert_exporter": "python",
   "pygments_lexer": "ipython3",
   "version": "3.8.10"
  }
 },
 "nbformat": 4,
 "nbformat_minor": 4
}
