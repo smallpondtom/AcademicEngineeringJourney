{
 "cells": [
  {
   "cell_type": "code",
   "execution_count": 2,
   "metadata": {},
   "outputs": [],
   "source": [
    "import numpy as np\n",
    "import matplotlib.pyplot as plt"
   ]
  },
  {
   "cell_type": "code",
   "execution_count": 3,
   "metadata": {},
   "outputs": [],
   "source": [
    "#part (b)\n",
    "mean = [0, 0] # set the mean vector\n",
    "cov = [[1, 0], [0, 1]] # set the covariance matrix\n",
    "N = 100 #number of samples\n",
    "\n",
    "data = np.random.multivariate_normal(mean, cov, N) #generate the random samples and store them in the matrix data\n",
    "\n",
    "#check the num of rows and columns of data\n",
    "row = np.size(data,0)\n",
    "column = np.size(data,1)"
   ]
  },
  {
   "cell_type": "code",
   "execution_count": 4,
   "metadata": {},
   "outputs": [
    {
     "data": {
      "image/png": "[encoded data removed]",
      "text/plain": [
       "<Figure size 432x288 with 1 Axes>"
      ]
     },
     "metadata": {
      "needs_background": "light"
     },
     "output_type": "display_data"
    }
   ],
   "source": [
    "#part (c)\n",
    "x1 = data[:,0] #get the first dimension\n",
    "x2 = data[:,1] #get the second dimension\n",
    "plt.scatter(x1, x2)\n",
    "plt.title(\"Point observations\")\n",
    "plt.xlabel(\"x1\")\n",
    "plt.ylabel(\"x2\")\n",
    "plt.show()"
   ]
  },
  {
   "cell_type": "code",
   "execution_count": 5,
   "metadata": {},
   "outputs": [
    {
     "name": "stdout",
     "output_type": "stream",
     "text": [
      "[0.26729784 0.00754156]\n",
      "[[ 1.12956971 -0.35462963]\n",
      " [-0.35462963  0.92313282]]\n"
     ]
    }
   ],
   "source": [
    "#part (d)\n",
    "# a reasonable way is to compute the sample mean and sample covariance\n",
    "\n",
    "#compute the sample mean and \n",
    "mean_sample = np.sum(data, axis=0)/(N-1) \n",
    "print(mean_sample)\n",
    "\n",
    "#compute the sample covariance\n",
    "covariance_sample = np.matmul(np.transpose(data - mean_sample), (data - mean_sample))/ (N-1) \n",
    "print(covariance_sample)"
   ]
  },
  {
   "cell_type": "code",
   "execution_count": 6,
   "metadata": {},
   "outputs": [
    {
     "name": "stdout",
     "output_type": "stream",
     "text": [
      "0.2674042042827488\n"
     ]
    }
   ],
   "source": [
    "#part (e)\n",
    "error = np.linalg.norm(mean-mean_sample)\n",
    "print(error)"
   ]
  },
  {
   "cell_type": "code",
   "execution_count": 101,
   "metadata": {},
   "outputs": [],
   "source": [
    "# part (f)\n",
    "#try to set the number of samples N to be larger and compare the error"
   ]
  }
 ],
 "metadata": {
  "kernelspec": {
   "display_name": "Python 3",
   "language": "python",
   "name": "python3"
  },
  "language_info": {
   "codemirror_mode": {
    "name": "ipython",
    "version": 3
   },
   "file_extension": ".py",
   "mimetype": "text/x-python",
   "name": "python",
   "nbconvert_exporter": "python",
   "pygments_lexer": "ipython3",
   "version": "3.8.5"
  }
 },
 "nbformat": 4,
 "nbformat_minor": 2
}
