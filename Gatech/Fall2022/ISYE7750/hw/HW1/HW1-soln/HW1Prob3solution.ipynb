{
 "cells": [
  {
   "cell_type": "code",
   "execution_count": 3,
   "metadata": {},
   "outputs": [],
   "source": [
    "import numpy as np\n",
    "import matplotlib.pyplot as plt\n",
    "\n",
    "def piecepoly2(t, alpha):\n",
    "    ft = np.zeros(len(t))\n",
    "    t = np.array(t)\n",
    "    for k, al in enumerate(alpha):\n",
    "        ft = ft + al * bfun(t - k) \n",
    "    return ft"
   ]
  },
  {
   "cell_type": "code",
   "execution_count": 6,
   "metadata": {},
   "outputs": [
    {
     "data": {
      "image/png": "[encoded data removed]",
      "text/plain": [
       "<Figure size 432x288 with 1 Axes>"
      ]
     },
     "metadata": {
      "needs_background": "light"
     },
     "output_type": "display_data"
    },
    {
     "name": "stdout",
     "output_type": "stream",
     "text": [
      "[ 2.1044733   3.37316017 -6.34343434 -5.31255411 -1.78124098]\n"
     ]
    }
   ],
   "source": [
    "def bfun(t):\n",
    "    b = np.zeros(len(t))\n",
    "    for idx, tt in enumerate(t):\n",
    "        if tt >= -3./2. and tt <= -1./2.:\n",
    "            bt = np.power((tt + 3./2.), 2) / 2.\n",
    "        elif tt >= -1./2. and tt <= 1./2.:\n",
    "            bt = -np.power(tt, 2) + 3/4.\n",
    "        elif tt >= 1./2. and tt <= 3./2.:\n",
    "            bt = np.power((tt - 3./2.), 2) / 2.\n",
    "        else:\n",
    "            bt = 0.\n",
    "        b[idx] = bt\n",
    "    return b\n",
    "\n",
    "def getAlpha(t, k, f):\n",
    "    f = np.array(f)\n",
    "    t = np.array(t)\n",
    "    A = np.zeros([len(f), k])\n",
    "    for i in range(k):\n",
    "        A[:, i] = bfun(t-i)\n",
    "    alpha = np.linalg.solve(A, f)\n",
    "    return alpha\n",
    "\n",
    "if __name__ == \"__main__\":\n",
    "    alpha = [2., 1., -1., 3., -1.]\n",
    "    t = np.linspace(-6., 6., 1000)\n",
    "    ft = piecepoly2(t, alpha)\n",
    "    plt.plot(t, ft)\n",
    "    plt.show()\n",
    "    ft = [2., 2., -5., -5., -2.]\n",
    "    t = [0., 1., 2., 3., 4.]\n",
    "    alpha = getAlpha(t, 5, ft)\n",
    "    print(alpha)"
   ]
  },
  {
   "cell_type": "code",
   "execution_count": null,
   "metadata": {},
   "outputs": [],
   "source": []
  }
 ],
 "metadata": {
  "kernelspec": {
   "display_name": "Python 3",
   "language": "python",
   "name": "python3"
  },
  "language_info": {
   "codemirror_mode": {
    "name": "ipython",
    "version": 3
   },
   "file_extension": ".py",
   "mimetype": "text/x-python",
   "name": "python",
   "nbconvert_exporter": "python",
   "pygments_lexer": "ipython3",
   "version": "3.8.5"
  }
 },
 "nbformat": 4,
 "nbformat_minor": 4
}
