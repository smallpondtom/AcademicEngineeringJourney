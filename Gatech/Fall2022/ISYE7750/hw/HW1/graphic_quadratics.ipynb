{
 "cells": [
  {
   "cell_type": "markdown",
   "metadata": {},
   "source": [
    "# Problem 1: Simulating quadratic functions\n"
   ]
  },
  {
   "cell_type": "code",
   "execution_count": null,
   "metadata": {},
   "outputs": [],
   "source": [
    "from numpy import arange, array\n",
    "from pylab import meshgrid\n",
    "from mpl_toolkits.mplot3d import Axes3D\n",
    "from matplotlib import cm\n",
    "from matplotlib.ticker import LinearLocator, FormatStrFormatter\n",
    "import matplotlib.pyplot as plt\n",
    "\n",
    "# we'll plot quadratic functions of two variables x1 and x2\n",
    "def z_func(x1,x2, A): #A here is expected to be a two-by-two multidimensional array\n",
    "    \n",
    "    value = #fill this in with the evaluation of f(x_1, x_2) = x^T A x. Think of x1, x2, value as scalars\n",
    "    return value\n",
    "    \n",
    "x1 = arange(-3.0,3.0,0.1)\n",
    "x2 = arange(-3.0,3.0,0.1)\n",
    "X1,X2 = meshgrid(x1, x2) # grid of points\n",
    "\n",
    "A = array([[4, -3],[-3, 1]]) #Change this to simulate different loss functions\n",
    "Z = z_func(X1, X2, A) # evaluation of the function on the grid"
   ]
  },
  {
   "cell_type": "code",
   "execution_count": null,
   "metadata": {},
   "outputs": [],
   "source": [
    "#Code for 3D plotting\n",
    "\n",
    "fig1 = plt.figure()\n",
    "ax = fig1.gca(projection='3d')\n",
    "surf = ax.plot_surface(X1, X2, Z, rstride=1, cstride=1, \n",
    "                      cmap=cm.RdBu,linewidth=0, antialiased=False)\n",
    "\n",
    "ax.zaxis.set_major_locator(LinearLocator(10))\n",
    "ax.zaxis.set_major_formatter(FormatStrFormatter('%.02f'))\n",
    "\n",
    "fig1.colorbar(surf, shrink=0.5, aspect=5)"
   ]
  },
  {
   "cell_type": "code",
   "execution_count": null,
   "metadata": {},
   "outputs": [],
   "source": [
    "#Code for contour plotting\n",
    "\n",
    "fig2 = plt.figure()\n",
    "ax2 = fig2.add_subplot(111)\n",
    "ax2.set_aspect(1)\n",
    "ax2.contourf(x1, x2, Z)"
   ]
  }
 ],
 "metadata": {
  "kernelspec": {
   "display_name": "Python 3",
   "language": "python",
   "name": "python3"
  },
  "language_info": {
   "codemirror_mode": {
    "name": "ipython",
    "version": 3
   },
   "file_extension": ".py",
   "mimetype": "text/x-python",
   "name": "python",
   "nbconvert_exporter": "python",
   "pygments_lexer": "ipython3",
   "version": "3.8.5"
  }
 },
 "nbformat": 4,
 "nbformat_minor": 4
}
